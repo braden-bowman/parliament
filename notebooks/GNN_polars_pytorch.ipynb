{
 "cells": [
  {
   "cell_type": "code",
   "execution_count": 10,
   "id": "30c2993b-b184-4e49-ba28-ca9ed6720f66",
   "metadata": {},
   "outputs": [
    {
     "data": {
      "text/plain": [
       "'\\nhttps://qiskit.org/ecosystem/rustworkx/#\\n\\nhttps://www.kaggle.com/code/jordandelbar/titanic-with-polars-and-pytorch\\n\\n# https://blog.tensorflow.org/2021/11/introducing-tensorflow-gnn.html\\n\\n'"
      ]
     },
     "execution_count": 10,
     "metadata": {},
     "output_type": "execute_result"
    }
   ],
   "source": [
    "# from GNN_utils import *\n",
    "import GNN_utils\n",
    "\n",
    "# Import our libraries\n",
    "import logging\n",
    "from typing import List, Union, Tuple\n",
    "\n",
    "import numpy\n",
    "import polars\n",
    "import torch\n",
    "from fe_polars.encoding.target_encoding import TargetEncoder\n",
    "from fe_polars.imputing.base_imputing import Imputer\n",
    "\n",
    "from sklearn.model_selection import train_test_split\n",
    "from sklearn.metrics import classification_report\n",
    "\n",
    "seed = 42\n",
    "numpy.random.seed(seed)\n",
    "torch.manual_seed(seed)\n",
    "\n",
    "\n",
    "# use polars, rustworkX, and pytorch?\n",
    "\n",
    "\"\"\"\n",
    "https://qiskit.org/ecosystem/rustworkx/#\n",
    "\n",
    "https://www.kaggle.com/code/jordandelbar/titanic-with-polars-and-pytorch\n",
    "\n",
    "# https://blog.tensorflow.org/2021/11/introducing-tensorflow-gnn.html\n",
    "\n",
    "\"\"\"\n"
   ]
  },
  {
   "cell_type": "code",
   "execution_count": 11,
   "id": "40259a60-76d0-497f-9277-fb520e10d3ca",
   "metadata": {},
   "outputs": [
    {
     "ename": "AttributeError",
     "evalue": "module 'GNN_utils' has no attribute 'Pipeline'",
     "output_type": "error",
     "traceback": [
      "\u001b[0;31m---------------------------------------------------------------------------\u001b[0m",
      "\u001b[0;31mAttributeError\u001b[0m                            Traceback (most recent call last)",
      "\u001b[0;32m/var/folders/f3/9q6jtj157ylf46bcjmkmr1fh0000gn/T/ipykernel_17841/20649793.py\u001b[0m in \u001b[0;36m<module>\u001b[0;34m\u001b[0m\n\u001b[1;32m      1\u001b[0m \u001b[0;31m# Instantiate our pipeline\u001b[0m\u001b[0;34m\u001b[0m\u001b[0;34m\u001b[0m\u001b[0m\n\u001b[0;32m----> 2\u001b[0;31m model_pipeline = GNN_utils.Pipeline(\n\u001b[0m\u001b[1;32m      3\u001b[0m     preprocessor=Preprocessor(\n\u001b[1;32m      4\u001b[0m         features_to_drop=[\"PassengerId\", \"Name\", \"SibSp\", \"Parch\", \"Ticket\", \"Cabin\"]),\n\u001b[1;32m      5\u001b[0m     mean_imputer=Imputer(\n",
      "\u001b[0;31mAttributeError\u001b[0m: module 'GNN_utils' has no attribute 'Pipeline'"
     ]
    }
   ],
   "source": [
    "# Instantiate our pipeline\n",
    "model_pipeline = GNN_utils.Pipeline(\n",
    "    preprocessor=Preprocessor(\n",
    "        features_to_drop=[\"PassengerId\", \"Name\", \"SibSp\", \"Parch\", \"Ticket\", \"Cabin\"]),\n",
    "    mean_imputer=Imputer(\n",
    "        features_to_impute=[\"Age\", \"Fare\"], strategy=\"mean\"),\n",
    "    target_encoder=TargetEncoder(\n",
    "        smoothing=100,\n",
    "        features_to_encode=[\"Sex\", \"Embarked\", \"Pclass\", \"is_baby\", \"alone\",\"title\"]),\n",
    "    clf=LogisticRegression(input_dim=9, output_dim=1, epochs=5000))"
   ]
  },
  {
   "cell_type": "code",
   "execution_count": null,
   "id": "c2713b6d-139f-41d3-b2a5-4fc662d0e8ae",
   "metadata": {},
   "outputs": [],
   "source": []
  }
 ],
 "metadata": {
  "kernelspec": {
   "display_name": "Python 3 (ipykernel)",
   "language": "python",
   "name": "python3"
  },
  "language_info": {
   "codemirror_mode": {
    "name": "ipython",
    "version": 3
   },
   "file_extension": ".py",
   "mimetype": "text/x-python",
   "name": "python",
   "nbconvert_exporter": "python",
   "pygments_lexer": "ipython3",
   "version": "3.9.12"
  }
 },
 "nbformat": 4,
 "nbformat_minor": 5
}
